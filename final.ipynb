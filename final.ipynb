{
 "cells": [
  {
   "cell_type": "code",
   "execution_count": 73,
   "id": "initial_id",
   "metadata": {
    "collapsed": true,
    "ExecuteTime": {
     "start_time": "2023-12-01T22:16:08.257554Z",
     "end_time": "2023-12-01T22:16:08.446909Z"
    }
   },
   "outputs": [],
   "source": [
    "import os\n",
    "import json\n",
    "import time\n",
    "\n",
    "import tqdm\n",
    "import requests\n",
    "import pandas as pd\n",
    "import seaborn as sns\n",
    "import matplotlib.pyplot as plt\n",
    "from urllib.parse import quote_plus, urlencode\n",
    "\n",
    "import warnings\n",
    "warnings.simplefilter(action='ignore', category=FutureWarning) # FutureWarning 제거"
   ]
  },
  {
   "cell_type": "markdown",
   "source": [
    "### API 데이터 수집"
   ],
   "metadata": {
    "collapsed": false
   },
   "id": "e63b9bac86d821b8"
  },
  {
   "cell_type": "code",
   "execution_count": 74,
   "outputs": [],
   "source": [
    "def load_weather(stn_Ids, stnName, year):\n",
    "    cache_dir = \"./data\"\n",
    "    if not os.path.exists(cache_dir):\n",
    "        os.makedirs(cache_dir)\n",
    "\n",
    "    url = 'http://apis.data.go.kr/1360000/AsosDalyInfoService/getWthrDataList'\n",
    "    servicekey = 'HOhrXN4295f2VXKpOJc4gvpLkBPC/i97uWk8PfrUIONlI7vRB9ij088/F5RvIjZSz/PUFjJ4zkMjuBkbtMHqUg=='\n",
    "    headers = {'User-Agent': 'Mozilla/5.0 (Windows NT 6.3; Win64; x64)'\n",
    "                             'AppleWebKit/537.36 (KHTML, like Gecko) Chrome/63.0.3239.132'\n",
    "                             'Safari/537.36'}\n",
    "\n",
    "    cache_filename = os.path.join(cache_dir, f\"{stn_Ids}_{year}.csv\")\n",
    "    if not os.path.exists(cache_filename):\n",
    "        params = f'?{quote_plus(\"ServiceKey\")}={servicekey}&' + urlencode({\n",
    "            quote_plus(\"pageNo\"): \"1\",  # 페이지 번호 // default : 1\n",
    "            quote_plus(\"numOfRows\"): \"720\",  # 한 페이지 결과 수 // default : 10\n",
    "            quote_plus(\"dataType\"): \"JSON\",  # 응답자료형식 : XML, JSON\n",
    "            quote_plus(\"dataCd\"): \"ASOS\",\n",
    "            quote_plus(\"dateCd\"): \"DAY\",\n",
    "            quote_plus(\"startDt\"): f\"{year}0101\",\n",
    "            quote_plus(\"endDt\"): f\"{year}1231\",\n",
    "            quote_plus(\"stnIds\"): f\"{stn_Ids}\"\n",
    "        })\n",
    "        try:\n",
    "            result = requests.get(url + params, headers=headers)\n",
    "        except:\n",
    "            time.sleep(2)\n",
    "            result = requests.get(url + params, headers=headers)\n",
    "\n",
    "        js = json.loads(result.content)\n",
    "        weather = pd.DataFrame(js['response']['body']['items']['item'])\n",
    "        weather['date'] = pd.to_datetime(weather['tm'])\n",
    "        weather = weather.drop(columns='tm')\n",
    "        weather['year'] = weather['date'].dt.year\n",
    "        weather['month'] = weather['date'].dt.month\n",
    "        weather['day'] = weather['date'].dt.day\n",
    "        weather['station'] = stnName\n",
    "        weather.to_csv(cache_filename, index=False)\n",
    "        return weather\n",
    "    else:\n",
    "        weather = pd.read_csv(cache_filename)\n",
    "        return weather"
   ],
   "metadata": {
    "collapsed": false,
    "ExecuteTime": {
     "start_time": "2023-12-01T22:16:08.292560Z",
     "end_time": "2023-12-01T22:16:08.494901Z"
    }
   },
   "id": "49208784de6d0458"
  },
  {
   "cell_type": "code",
   "execution_count": 75,
   "outputs": [],
   "source": [
    "info = pd.read_csv('./data/관측지점코드.csv')\n",
    "all_weather_filename = './data/all.csv'\n",
    "if not os.path.exists(all_weather_filename):\n",
    "    all_weather = pd.DataFrame()\n",
    "    check_list = []\n",
    "    for idx, row in info.iterrows():\n",
    "        stnId = row['지점']\n",
    "        stnName = row['지점명']\n",
    "        # 1973~2022년 데이터 수집\n",
    "        for year in tqdm.tqdm(range(1973, 2024), desc=stnName):\n",
    "            try:\n",
    "                each_weather = load_weather(stnId, stnName, year)\n",
    "                all_weather = pd.concat([all_weather, each_weather])\n",
    "            except:\n",
    "                check_value = (stnName, year)\n",
    "                check_list.append(check_value)          \n",
    "    all_weather.to_csv(all_weather_filename, index=False)\n",
    "else:\n",
    "    all_weather = pd.read_csv(all_weather_filename)"
   ],
   "metadata": {
    "collapsed": false,
    "ExecuteTime": {
     "start_time": "2023-12-01T22:16:08.321085Z",
     "end_time": "2023-12-01T22:16:22.943458Z"
    }
   },
   "id": "1c9e797d731585b9"
  },
  {
   "cell_type": "code",
   "execution_count": 76,
   "outputs": [],
   "source": [
    "df = all_weather.copy()"
   ],
   "metadata": {
    "collapsed": false,
    "ExecuteTime": {
     "start_time": "2023-12-01T22:16:22.962918Z",
     "end_time": "2023-12-01T22:16:23.412339Z"
    }
   },
   "id": "2d7e9e8f870c69f7"
  },
  {
   "cell_type": "code",
   "execution_count": 77,
   "outputs": [],
   "source": [
    "df = pd.merge(df, info, left_on='station', right_on='지점명', how='inner')\n",
    "df['관리관서'] = df['관리관서'].apply(lambda x: x.split('기상')[0])\n",
    "df['관리관서'] = df['관리관서'].apply(lambda x: x.split('지방')[0] if '지방' in x else x)\n",
    "top_list = ['강원', '춘천', '수도권', '인천', '청주', '대전']\n",
    "bottom_list = ['대구', '홍성', '안동', '전주', '울산', '창원', '광주', '부산', '목포', '제주']\n",
    "df['시도'] = df['관리관서'].apply(lambda x: '중부' if x in top_list else '남부')\n",
    "df = df.drop(columns=['지점', '지점명', '관리관서'])"
   ],
   "metadata": {
    "collapsed": false,
    "ExecuteTime": {
     "start_time": "2023-12-01T22:16:23.414348Z",
     "end_time": "2023-12-01T22:16:28.291990Z"
    }
   }
  },
  {
   "cell_type": "code",
   "execution_count": 78,
   "outputs": [
    {
     "name": "stdout",
     "output_type": "stream",
     "text": [
      "<class 'pandas.core.frame.DataFrame'>\n",
      "Int64Index: 1348891 entries, 0 to 1348890\n",
      "Data columns (total 10 columns):\n",
      " #   Column   Non-Null Count    Dtype  \n",
      "---  ------   --------------    -----  \n",
      " 0   avgTa    1347861 non-null  float64\n",
      " 1   minTa    1348415 non-null  float64\n",
      " 2   maxTa    1348413 non-null  float64\n",
      " 3   sumRn    491169 non-null   float64\n",
      " 4   ddMefs   36259 non-null    float64\n",
      " 5   year     1348891 non-null  int64  \n",
      " 6   month    1348891 non-null  int64  \n",
      " 7   day      1348891 non-null  int64  \n",
      " 8   station  1348891 non-null  object \n",
      " 9   시도       1348891 non-null  object \n",
      "dtypes: float64(5), int64(3), object(2)\n",
      "memory usage: 113.2+ MB\n"
     ]
    }
   ],
   "source": [
    "df = df[['avgTa', 'minTa', 'maxTa', 'sumRn', 'ddMefs','year', 'month', 'day', 'station', '시도']]\n",
    "numeric_cols = ['avgTa', 'minTa', 'maxTa', 'sumRn', 'ddMefs', 'year', 'month', 'day']\n",
    "df[numeric_cols] = df[numeric_cols].apply(pd.to_numeric, errors='coerce')\n",
    "df.info()"
   ],
   "metadata": {
    "collapsed": false,
    "ExecuteTime": {
     "start_time": "2023-12-01T22:16:28.298017Z",
     "end_time": "2023-12-01T22:16:29.852629Z"
    }
   },
   "id": "7c9636724cc8a46d"
  },
  {
   "cell_type": "markdown",
   "source": [
    "### 데이터 나누기"
   ],
   "metadata": {
    "collapsed": false
   },
   "id": "b782220c2777cbae"
  },
  {
   "cell_type": "code",
   "execution_count": 79,
   "outputs": [],
   "source": [
    "def tavg_table(df, year):\n",
    "    df30 = df[(df['year'] >= 1991) & (df['year'] <= 2020)]\n",
    "    dfyear = df[df['year'] == year]\n",
    "    df_whole = df[df['year'] > 1972]\n",
    "    \n",
    "    tavg30_month = df30.groupby('month')['avgTa'].mean().reset_index()\n",
    "    tavg30_month = tavg30_month.rename(columns={'avgTa': '평년기온(°C)'})\n",
    "    tavgyear_month = dfyear.groupby('month')['avgTa'].mean().reset_index()\n",
    "    tavgyear_month = tavgyear_month.rename(columns={'avgTa': f'{year}년 기온(°C)'})\n",
    "    tavg_month = pd.merge(tavgyear_month, tavg30_month, on='month', how='outer')\n",
    "    \n",
    "    tavg30  = df30['avgTa'].mean()\n",
    "    tavgyear = dfyear['avgTa'].mean()\n",
    "    \n",
    "    tavg_month.loc[-1] = ['평균', tavgyear, tavg30]\n",
    "    tavg_month['편차(°C)'] = tavg_month[f'{year}년 기온(°C)'] - tavg_month['평년기온(°C)']\n",
    "    \n",
    "    tavg_month_rank = df_whole.groupby(['month', 'year'])['avgTa'].mean().reset_index()\n",
    "    tavg_month_rank['순위'] = tavg_month_rank.groupby('month')['avgTa'].rank(ascending=False, method='min')\n",
    "    tavg_month_rank = tavg_month_rank[tavg_month_rank['year'] == year][['month', '순위']]\n",
    "    \n",
    "    tavg_rank = df_whole.groupby('year')['avgTa'].mean().rank(ascending=False, method='min').reset_index()\n",
    "    tavg_rank = tavg_rank[tavg_rank['year'] == year]\n",
    "    tavg_rank.columns = ['month', '순위']\n",
    "    tavg_rank['month'] = '평균'\n",
    "    \n",
    "    tavg_rank = pd.concat([tavg_rank, tavg_month_rank])\n",
    "    tavg_result = pd.merge(tavg_month, tavg_rank, on='month', how='inner')\n",
    "    tavg_result = tavg_result.set_index('month')\n",
    "    tavg_result['순위'] = tavg_result['순위']\n",
    "    \n",
    "    tavg_result.round(2).T.to_csv(f'./result/평균기온{year}.csv')"
   ],
   "metadata": {
    "collapsed": false,
    "ExecuteTime": {
     "start_time": "2023-12-01T22:16:29.854629Z",
     "end_time": "2023-12-01T22:16:29.966044Z"
    }
   },
   "id": "78623f315ee0b40a"
  },
  {
   "cell_type": "code",
   "execution_count": 80,
   "outputs": [],
   "source": [
    "def rain_table(df, year):\n",
    "    df30 = df[(df['year'] >= 1991) & (df['year'] <= 2020)]\n",
    "    dfyear = df[df['year'] == year]\n",
    "    df_whole = df[df['year'] > 1972]\n",
    "    \n",
    "    rain30_month = df30.groupby(['station', 'month', 'year'])['sumRn'].sum().reset_index()\n",
    "    rain30_month = rain30_month.groupby('month')['sumRn'].mean().reset_index()\n",
    "    rain30_month = rain30_month.rename(columns={'sumRn':'평년 강수량(mm)'})\n",
    "    \n",
    "    rainyear_month = dfyear.groupby(['station', 'month'])['sumRn'].sum().reset_index()\n",
    "    rainyear_month = rainyear_month.groupby('month')['sumRn'].mean().reset_index()\n",
    "    rainyear_month = rainyear_month.rename(columns={'sumRn':f'{year}년 강수량(mm)'})\n",
    "    \n",
    "    rain30 = df30.groupby(['station', 'year'])['sumRn'].sum().reset_index()\n",
    "    rain30 = rain30['sumRn'].mean()\n",
    "    \n",
    "    rainyear = dfyear.groupby('station')['sumRn'].sum().reset_index()\n",
    "    rainyear = rainyear['sumRn'].mean()\n",
    "    \n",
    "    rain_month = pd.merge(rain30_month, rainyear_month, on='month', how='inner')\n",
    "    rain_month.loc[-1] = ['평균', rainyear, rain30]\n",
    "    rain_month_rank = df_whole.groupby(['station', 'month', 'year'])['sumRn'].sum().reset_index()\n",
    "    rain_month_rank = rain_month_rank.groupby(['month', 'year'])['sumRn'].mean().reset_index()\n",
    "    rain_month_rank['순위'] = rain_month_rank.groupby('month')['sumRn'].rank(ascending=False, method='min')\n",
    "    rain_month_rank = rain_month_rank[rain_month_rank['year'] == year]\n",
    "    rain_month_rank = rain_month_rank[['month', '순위']]\n",
    "    rain_rank = df_whole.groupby(['station', 'year'])['sumRn'].sum().reset_index()\n",
    "    rain_rank = rain_rank.groupby('year')['sumRn'].mean().rank(ascending=False, method='min').reset_index()\n",
    "    rain_rank = rain_rank[rain_rank['year'] == year]\n",
    "    rain_rank.columns = ['month', '순위']\n",
    "    rain_rank['month'] = '평균'\n",
    "    \n",
    "    rain_rank = pd.concat([rain_rank, rain_month_rank])\n",
    "    rain_result = pd.merge(rain_rank, rain_month, on='month', how='inner')\n",
    "    rain_result['평년비(%)'] = rain_result[f'{year}년 강수량(mm)'] / rain_result['평년 강수량(mm)'] * 100\n",
    "    rain_result = rain_result.set_index('month')\n",
    "    rain_result = rain_result[[f'{year}년 강수량(mm)', '평년 강수량(mm)', '평년비(%)', '순위']]\n",
    "    rain_result.round(2).T.to_csv(f'./result/강수량{year}.csv')"
   ],
   "metadata": {
    "collapsed": false,
    "ExecuteTime": {
     "start_time": "2023-12-01T22:16:29.901301Z",
     "end_time": "2023-12-01T22:16:29.969024Z"
    }
   },
   "id": "b276729bc11c1ed1"
  },
  {
   "cell_type": "code",
   "execution_count": 81,
   "outputs": [],
   "source": [
    "def norain_station(df, year):\n",
    "    dfyear = df[df['year'] == year]\n",
    "    df_whole = df[df['year'] > 1972]\n",
    "    rain_station = dfyear.groupby(['station', 'month'])['sumRn'].sum().reset_index()\n",
    "    display(rain_station[rain_station['sumRn'] == 0])\n",
    "    \n",
    "    norain1 = rain_station[(rain_station['sumRn']==0) & (rain_station['month'] == 1)]['station'].unique()\n",
    "    norain2 = rain_station[(rain_station['sumRn']==0) & (rain_station['month'] == 2)]['station'].unique()\n",
    "    norain5 = rain_station[(rain_station['sumRn']==0) & (rain_station['month'] == 5)]['station'].unique()\n",
    "    norain12 = rain_station[(rain_station['sumRn']==0) & (rain_station['month'] == 12)]['station'].unique()\n",
    "    \n",
    "    print(\"1월 강수량이 0인 지역:\", ', '.join(norain1))\n",
    "    print(\"2월 강수량이 0인 지역:\", ', '.join(norain2))\n",
    "    print(\"5월 강수량이 0인 지역:\", ', '.join(norain5))\n",
    "    print(\"12월 강수량이 0인 지역:\", ', '.join(norain12))"
   ],
   "metadata": {
    "collapsed": false,
    "ExecuteTime": {
     "start_time": "2023-12-01T22:16:29.915978Z",
     "end_time": "2023-12-01T22:16:29.970029Z"
    }
   },
   "id": "28a798a1eebe7416"
  },
  {
   "cell_type": "code",
   "execution_count": 82,
   "outputs": [],
   "source": [
    "def minmax_station(df, year):\n",
    "    dfyear = df[df['year'] == year]\n",
    "    tmax_station = dfyear.loc[dfyear['maxTa'].idxmax()]\n",
    "    tmin_station = dfyear.loc[dfyear['minTa'].idxmin()]\n",
    "    rain_max_station = dfyear.loc[dfyear['sumRn'].idxmax()]\n",
    "    snow_max_station = dfyear.loc[dfyear['ddMefs'].idxmax()]\n",
    "    \n",
    "    print(f\"{year}년 전국에서 일최고기온을 기록한 지역은 {tmax_station['station']}으로, {tmax_station['month']}월 {tmax_station['day']}일, {tmax_station['maxTa']}°C를 기록하였다.\")\n",
    "    print(f\"{year}년 전국에서 일최저기온을 기록한 지역은 {tmin_station['station']}으로, {tmin_station['month']}월 {tmin_station['day']}일, {tmin_station['minTa']}°C를 기록하였다.\")\n",
    "    print(f\"{year}년 전국에서 일최고강수량을 기록한 지역은 {rain_max_station['station']}으로, {rain_max_station['month']}월 {rain_max_station['day']}일, {rain_max_station['sumRn']}mm를 기록하였다.\")\n",
    "    print(f\"{year}년 전국에서 일최고최심신적설을 기록한 지역은 {snow_max_station['station']}로, {snow_max_station['month']}월 {snow_max_station['day']}일, {snow_max_station['ddMefs']}cm 기록하였다.\")"
   ],
   "metadata": {
    "collapsed": false,
    "ExecuteTime": {
     "start_time": "2023-12-01T22:16:29.938978Z",
     "end_time": "2023-12-01T22:16:29.970029Z"
    }
   },
   "id": "5c89cb64b0f5df"
  },
  {
   "cell_type": "code",
   "execution_count": 83,
   "outputs": [],
   "source": [
    "def days_rank(df, year):\n",
    "    df_whole = df[df['year'] > 1972]\n",
    "    \n",
    "    norain_day_df = df_whole.copy()\n",
    "    norain_day_df['강수여부'] = norain_day_df['sumRn'].apply(lambda x: 0 if x > 0 else 1)\n",
    "    norain_day_df = norain_day_df.groupby(['year', 'station'])['강수여부'].sum().reset_index()\n",
    "    norain_day_df = norain_day_df.groupby('year')['강수여부'].mean().reset_index()\n",
    "    norain_day_df['순위'] = norain_day_df['강수여부'].rank(ascending=False, method='min')\n",
    "    display(norain_day_df[norain_day_df['year'] == year])\n",
    "    \n",
    "    cold_day_df = df_whole.copy()\n",
    "    cold_day_df['한파여부'] = cold_day_df['minTa'].apply(lambda x: 1 if x < -12 else 0)\n",
    "    cold_day_df = cold_day_df.groupby(['year', 'station'])['한파여부'].sum().reset_index()\n",
    "    cold_day_df = cold_day_df.groupby('year')['한파여부'].mean().reset_index()\n",
    "    cold_day_df['순위'] = cold_day_df['한파여부'].rank(ascending=False, method='min')\n",
    "    display(cold_day_df[cold_day_df['year'] == year])\n",
    "    \n",
    "    hot_day_df = df_whole.copy()\n",
    "    hot_day_df['폭염여부'] = hot_day_df['maxTa'].apply(lambda x: 1 if x > 33 else 0)\n",
    "    hot_day_df = hot_day_df.groupby(['year', 'station'])['폭염여부'].sum().reset_index()\n",
    "    hot_day_df = hot_day_df.groupby('year')['폭염여부'].mean().reset_index()\n",
    "    hot_day_df['순위'] = hot_day_df['폭염여부'].rank(ascending=False, method='min')\n",
    "    display(hot_day_df[hot_day_df['year'] == year])"
   ],
   "metadata": {
    "collapsed": false,
    "ExecuteTime": {
     "start_time": "2023-12-01T22:16:29.947828Z",
     "end_time": "2023-12-01T22:16:29.971026Z"
    }
   },
   "id": "febc89058378d270"
  },
  {
   "cell_type": "markdown",
   "source": [
    "### 시각화"
   ],
   "metadata": {
    "collapsed": false
   },
   "id": "8163d248bce8cc84"
  },
  {
   "cell_type": "code",
   "execution_count": 84,
   "outputs": [
    {
     "ename": "ValueError",
     "evalue": "The truth value of a Series is ambiguous. Use a.empty, a.bool(), a.item(), a.any() or a.all().",
     "output_type": "error",
     "traceback": [
      "\u001B[1;31m---------------------------------------------------------------------------\u001B[0m",
      "\u001B[1;31mValueError\u001B[0m                                Traceback (most recent call last)",
      "Cell \u001B[1;32mIn[84], line 15\u001B[0m\n\u001B[0;32m     12\u001B[0m anomaly_index_df[\u001B[38;5;124m'\u001B[39m\u001B[38;5;124mcolor\u001B[39m\u001B[38;5;124m'\u001B[39m] \u001B[38;5;241m=\u001B[39m anomaly_index_df[\u001B[38;5;124m'\u001B[39m\u001B[38;5;124mtavg_anomaly\u001B[39m\u001B[38;5;124m'\u001B[39m]\u001B[38;5;241m.\u001B[39mapply(\u001B[38;5;28;01mlambda\u001B[39;00m x: \u001B[38;5;124m'\u001B[39m\u001B[38;5;124mred\u001B[39m\u001B[38;5;124m'\u001B[39m \u001B[38;5;28;01mif\u001B[39;00m x \u001B[38;5;241m>\u001B[39m \u001B[38;5;241m0\u001B[39m \u001B[38;5;28;01melse\u001B[39;00m \u001B[38;5;124m'\u001B[39m\u001B[38;5;124mblue\u001B[39m\u001B[38;5;124m'\u001B[39m)\n\u001B[0;32m     14\u001B[0m plt\u001B[38;5;241m.\u001B[39mfigure(figsize\u001B[38;5;241m=\u001B[39m(\u001B[38;5;241m10\u001B[39m, \u001B[38;5;241m6\u001B[39m))\n\u001B[1;32m---> 15\u001B[0m \u001B[43msns\u001B[49m\u001B[38;5;241;43m.\u001B[39;49m\u001B[43mbarplot\u001B[49m\u001B[43m(\u001B[49m\u001B[43mx\u001B[49m\u001B[38;5;241;43m=\u001B[39;49m\u001B[38;5;124;43m'\u001B[39;49m\u001B[38;5;124;43myear\u001B[39;49m\u001B[38;5;124;43m'\u001B[39;49m\u001B[43m,\u001B[49m\u001B[43m \u001B[49m\u001B[43my\u001B[49m\u001B[38;5;241;43m=\u001B[39;49m\u001B[38;5;124;43m'\u001B[39;49m\u001B[38;5;124;43mtavg_anomaly\u001B[39;49m\u001B[38;5;124;43m'\u001B[39;49m\u001B[43m,\u001B[49m\u001B[43m \u001B[49m\u001B[43mdata\u001B[49m\u001B[38;5;241;43m=\u001B[39;49m\u001B[43manomaly_index_df\u001B[49m\u001B[43m,\u001B[49m\u001B[43m \u001B[49m\u001B[43mpalette\u001B[49m\u001B[38;5;241;43m=\u001B[39;49m\u001B[43manomaly_index_df\u001B[49m\u001B[43m[\u001B[49m\u001B[38;5;124;43m'\u001B[39;49m\u001B[38;5;124;43mcolor\u001B[39;49m\u001B[38;5;124;43m'\u001B[39;49m\u001B[43m]\u001B[49m\u001B[43m)\u001B[49m\n\u001B[0;32m     17\u001B[0m plt\u001B[38;5;241m.\u001B[39mxlabel(\u001B[38;5;124m\"\u001B[39m\u001B[38;5;124mYear\u001B[39m\u001B[38;5;124m\"\u001B[39m)\n\u001B[0;32m     18\u001B[0m plt\u001B[38;5;241m.\u001B[39mylabel(\u001B[38;5;124m\"\u001B[39m\u001B[38;5;124mAverage Temperature Anomaly\u001B[39m\u001B[38;5;124m\"\u001B[39m)\n",
      "File \u001B[1;32m~\\.conda\\envs\\LEC-AgProgramming\\lib\\site-packages\\seaborn\\categorical.py:2355\u001B[0m, in \u001B[0;36mbarplot\u001B[1;34m(data, x, y, hue, order, hue_order, estimator, errorbar, n_boot, units, seed, orient, color, palette, saturation, fill, hue_norm, width, dodge, gap, log_scale, native_scale, formatter, legend, capsize, err_kws, ci, errcolor, errwidth, ax, **kwargs)\u001B[0m\n\u001B[0;32m   2352\u001B[0m palette, hue_order \u001B[38;5;241m=\u001B[39m p\u001B[38;5;241m.\u001B[39m_hue_backcompat(color, palette, hue_order)\n\u001B[0;32m   2354\u001B[0m saturation \u001B[38;5;241m=\u001B[39m saturation \u001B[38;5;28;01mif\u001B[39;00m fill \u001B[38;5;28;01melse\u001B[39;00m \u001B[38;5;241m1\u001B[39m\n\u001B[1;32m-> 2355\u001B[0m \u001B[43mp\u001B[49m\u001B[38;5;241;43m.\u001B[39;49m\u001B[43mmap_hue\u001B[49m\u001B[43m(\u001B[49m\u001B[43mpalette\u001B[49m\u001B[38;5;241;43m=\u001B[39;49m\u001B[43mpalette\u001B[49m\u001B[43m,\u001B[49m\u001B[43m \u001B[49m\u001B[43morder\u001B[49m\u001B[38;5;241;43m=\u001B[39;49m\u001B[43mhue_order\u001B[49m\u001B[43m,\u001B[49m\u001B[43m \u001B[49m\u001B[43mnorm\u001B[49m\u001B[38;5;241;43m=\u001B[39;49m\u001B[43mhue_norm\u001B[49m\u001B[43m,\u001B[49m\u001B[43m \u001B[49m\u001B[43msaturation\u001B[49m\u001B[38;5;241;43m=\u001B[39;49m\u001B[43msaturation\u001B[49m\u001B[43m)\u001B[49m\n\u001B[0;32m   2356\u001B[0m color \u001B[38;5;241m=\u001B[39m _default_color(ax\u001B[38;5;241m.\u001B[39mbar, hue, color, kwargs, saturation\u001B[38;5;241m=\u001B[39msaturation)\n\u001B[0;32m   2358\u001B[0m aggregator \u001B[38;5;241m=\u001B[39m EstimateAggregator(estimator, errorbar, n_boot\u001B[38;5;241m=\u001B[39mn_boot, seed\u001B[38;5;241m=\u001B[39mseed)\n",
      "File \u001B[1;32m~\\.conda\\envs\\LEC-AgProgramming\\lib\\site-packages\\seaborn\\_base.py:838\u001B[0m, in \u001B[0;36mVectorPlotter.map_hue\u001B[1;34m(self, palette, order, norm, saturation)\u001B[0m\n\u001B[0;32m    837\u001B[0m \u001B[38;5;28;01mdef\u001B[39;00m \u001B[38;5;21mmap_hue\u001B[39m(\u001B[38;5;28mself\u001B[39m, palette\u001B[38;5;241m=\u001B[39m\u001B[38;5;28;01mNone\u001B[39;00m, order\u001B[38;5;241m=\u001B[39m\u001B[38;5;28;01mNone\u001B[39;00m, norm\u001B[38;5;241m=\u001B[39m\u001B[38;5;28;01mNone\u001B[39;00m, saturation\u001B[38;5;241m=\u001B[39m\u001B[38;5;241m1\u001B[39m):\n\u001B[1;32m--> 838\u001B[0m     mapping \u001B[38;5;241m=\u001B[39m \u001B[43mHueMapping\u001B[49m\u001B[43m(\u001B[49m\u001B[38;5;28;43mself\u001B[39;49m\u001B[43m,\u001B[49m\u001B[43m \u001B[49m\u001B[43mpalette\u001B[49m\u001B[43m,\u001B[49m\u001B[43m \u001B[49m\u001B[43morder\u001B[49m\u001B[43m,\u001B[49m\u001B[43m \u001B[49m\u001B[43mnorm\u001B[49m\u001B[43m,\u001B[49m\u001B[43m \u001B[49m\u001B[43msaturation\u001B[49m\u001B[43m)\u001B[49m\n\u001B[0;32m    839\u001B[0m     \u001B[38;5;28mself\u001B[39m\u001B[38;5;241m.\u001B[39m_hue_map \u001B[38;5;241m=\u001B[39m mapping\n",
      "File \u001B[1;32m~\\.conda\\envs\\LEC-AgProgramming\\lib\\site-packages\\seaborn\\_base.py:128\u001B[0m, in \u001B[0;36mHueMapping.__init__\u001B[1;34m(self, plotter, palette, order, norm, saturation)\u001B[0m\n\u001B[0;32m    125\u001B[0m         warnings\u001B[38;5;241m.\u001B[39mwarn(msg, stacklevel\u001B[38;5;241m=\u001B[39m\u001B[38;5;241m4\u001B[39m)\n\u001B[0;32m    126\u001B[0m \u001B[38;5;28;01melse\u001B[39;00m:\n\u001B[1;32m--> 128\u001B[0m     map_type \u001B[38;5;241m=\u001B[39m \u001B[38;5;28;43mself\u001B[39;49m\u001B[38;5;241;43m.\u001B[39;49m\u001B[43minfer_map_type\u001B[49m\u001B[43m(\u001B[49m\n\u001B[0;32m    129\u001B[0m \u001B[43m        \u001B[49m\u001B[43mpalette\u001B[49m\u001B[43m,\u001B[49m\u001B[43m \u001B[49m\u001B[43mnorm\u001B[49m\u001B[43m,\u001B[49m\u001B[43m \u001B[49m\u001B[43mplotter\u001B[49m\u001B[38;5;241;43m.\u001B[39;49m\u001B[43minput_format\u001B[49m\u001B[43m,\u001B[49m\u001B[43m \u001B[49m\u001B[43mplotter\u001B[49m\u001B[38;5;241;43m.\u001B[39;49m\u001B[43mvar_types\u001B[49m\u001B[43m[\u001B[49m\u001B[38;5;124;43m\"\u001B[39;49m\u001B[38;5;124;43mhue\u001B[39;49m\u001B[38;5;124;43m\"\u001B[39;49m\u001B[43m]\u001B[49m\n\u001B[0;32m    130\u001B[0m \u001B[43m    \u001B[49m\u001B[43m)\u001B[49m\n\u001B[0;32m    132\u001B[0m     \u001B[38;5;66;03m# Our goal is to end up with a dictionary mapping every unique\u001B[39;00m\n\u001B[0;32m    133\u001B[0m     \u001B[38;5;66;03m# value in `data` to a color. We will also keep track of the\u001B[39;00m\n\u001B[0;32m    134\u001B[0m     \u001B[38;5;66;03m# metadata about this mapping we will need for, e.g., a legend\u001B[39;00m\n\u001B[0;32m    135\u001B[0m \n\u001B[0;32m    136\u001B[0m     \u001B[38;5;66;03m# --- Option 1: numeric mapping with a matplotlib colormap\u001B[39;00m\n\u001B[0;32m    138\u001B[0m     \u001B[38;5;28;01mif\u001B[39;00m map_type \u001B[38;5;241m==\u001B[39m \u001B[38;5;124m\"\u001B[39m\u001B[38;5;124mnumeric\u001B[39m\u001B[38;5;124m\"\u001B[39m:\n",
      "File \u001B[1;32m~\\.conda\\envs\\LEC-AgProgramming\\lib\\site-packages\\seaborn\\_base.py:207\u001B[0m, in \u001B[0;36mHueMapping.infer_map_type\u001B[1;34m(self, palette, norm, input_format, var_type)\u001B[0m\n\u001B[0;32m    205\u001B[0m \u001B[38;5;28;01mdef\u001B[39;00m \u001B[38;5;21minfer_map_type\u001B[39m(\u001B[38;5;28mself\u001B[39m, palette, norm, input_format, var_type):\n\u001B[0;32m    206\u001B[0m \u001B[38;5;250m    \u001B[39m\u001B[38;5;124;03m\"\"\"Determine how to implement the mapping.\"\"\"\u001B[39;00m\n\u001B[1;32m--> 207\u001B[0m     \u001B[38;5;28;01mif\u001B[39;00m \u001B[43mpalette\u001B[49m\u001B[43m \u001B[49m\u001B[38;5;129;43;01min\u001B[39;49;00m\u001B[43m \u001B[49m\u001B[43mQUAL_PALETTES\u001B[49m:\n\u001B[0;32m    208\u001B[0m         map_type \u001B[38;5;241m=\u001B[39m \u001B[38;5;124m\"\u001B[39m\u001B[38;5;124mcategorical\u001B[39m\u001B[38;5;124m\"\u001B[39m\n\u001B[0;32m    209\u001B[0m     \u001B[38;5;28;01melif\u001B[39;00m norm \u001B[38;5;129;01mis\u001B[39;00m \u001B[38;5;129;01mnot\u001B[39;00m \u001B[38;5;28;01mNone\u001B[39;00m:\n",
      "File \u001B[1;32m~\\.conda\\envs\\LEC-AgProgramming\\lib\\site-packages\\pandas\\core\\generic.py:1527\u001B[0m, in \u001B[0;36mNDFrame.__nonzero__\u001B[1;34m(self)\u001B[0m\n\u001B[0;32m   1525\u001B[0m \u001B[38;5;129m@final\u001B[39m\n\u001B[0;32m   1526\u001B[0m \u001B[38;5;28;01mdef\u001B[39;00m \u001B[38;5;21m__nonzero__\u001B[39m(\u001B[38;5;28mself\u001B[39m) \u001B[38;5;241m-\u001B[39m\u001B[38;5;241m>\u001B[39m NoReturn:\n\u001B[1;32m-> 1527\u001B[0m     \u001B[38;5;28;01mraise\u001B[39;00m \u001B[38;5;167;01mValueError\u001B[39;00m(\n\u001B[0;32m   1528\u001B[0m         \u001B[38;5;124mf\u001B[39m\u001B[38;5;124m\"\u001B[39m\u001B[38;5;124mThe truth value of a \u001B[39m\u001B[38;5;132;01m{\u001B[39;00m\u001B[38;5;28mtype\u001B[39m(\u001B[38;5;28mself\u001B[39m)\u001B[38;5;241m.\u001B[39m\u001B[38;5;18m__name__\u001B[39m\u001B[38;5;132;01m}\u001B[39;00m\u001B[38;5;124m is ambiguous. \u001B[39m\u001B[38;5;124m\"\u001B[39m\n\u001B[0;32m   1529\u001B[0m         \u001B[38;5;124m\"\u001B[39m\u001B[38;5;124mUse a.empty, a.bool(), a.item(), a.any() or a.all().\u001B[39m\u001B[38;5;124m\"\u001B[39m\n\u001B[0;32m   1530\u001B[0m     )\n",
      "\u001B[1;31mValueError\u001B[0m: The truth value of a Series is ambiguous. Use a.empty, a.bool(), a.item(), a.any() or a.all()."
     ]
    },
    {
     "data": {
      "text/plain": "<Figure size 1000x600 with 1 Axes>",
      "image/png": "[encoded data removed]"
     },
     "metadata": {},
     "output_type": "display_data"
    }
   ],
   "source": [
    "# 온도 편차\n",
    "df_whole = df[df['year'] > 1972]\n",
    "df30 = df[(df['year'] >= 1991) & (df['year'] <= 2020)]\n",
    "tavg30  = df30['avgTa'].mean()\n",
    "\n",
    "annual_tavg = df_whole.groupby([\"year\", \"station\"])[\"avgTa\"].mean().reset_index()\n",
    "annual_tavg = annual_tavg.groupby('year')['avgTa'].mean()\n",
    "\n",
    "anomaly_index = annual_tavg - tavg30\n",
    "anomaly_index_df = anomaly_index.reset_index(name='tavg_anomaly')\n",
    "\n",
    "anomaly_index_df['color'] = anomaly_index_df['tavg_anomaly'].apply(lambda x: 'red' if x > 0 else 'blue')\n",
    "\n",
    "plt.figure(figsize=(10, 6))\n",
    "sns.barplot(x='year', y='tavg_anomaly', data=anomaly_index_df, palette=anomaly_index_df['color'])\n",
    "\n",
    "plt.xlabel(\"Year\")\n",
    "plt.ylabel(\"Average Temperature Anomaly\")\n",
    "plt.title(\"Average Temperature Anomaly\")\n",
    "plt.xticks(rotation=45, ha='right')\n",
    "plt.show()"
   ],
   "metadata": {
    "collapsed": false,
    "ExecuteTime": {
     "end_time": "2023-11-30T10:32:21.458056Z",
     "start_time": "2023-11-30T10:32:20.701454Z"
    }
   },
   "id": "57eeec5543d36bc5"
  },
  {
   "cell_type": "code",
   "execution_count": null,
   "outputs": [],
   "source": [
    "# 일평균기#\n",
    "tavg = df_whole.groupby('year')['avgTa'].mean().reset_index()\n",
    "plt.figure(figsize=(10, 6))\n",
    "\n",
    "sns.lineplot(data=tavg, x='year', y='avgTa', markersize=8, color='black', label='Temperature')\n",
    "\n",
    "max_temp_year = tavg.loc[tavg['avgTa'].idxmax()]['year']\n",
    "min_temp_year = tavg.loc[tavg['avgTa'].idxmin()]['year']\n",
    "\n",
    "plt.scatter(max_temp_year, tavg.loc[tavg['year'] == max_temp_year, 'avgTa'], color='red', label='Max Temperature')\n",
    "plt.scatter(min_temp_year, tavg.loc[tavg['year'] == min_temp_year, 'avgTa'], color='blue', label='Min Temperature')\n",
    "\n",
    "plt.title('Yearly Average Temperature')\n",
    "plt.xlabel('Year')\n",
    "plt.ylabel('Temperature (°C)')\n",
    "plt.grid(True)\n",
    "plt.legend()\n",
    "\n",
    "plt.show()"
   ],
   "metadata": {
    "collapsed": false,
    "ExecuteTime": {
     "start_time": "2023-12-01T21:58:03.514472Z",
     "end_time": "2023-12-01T21:58:04.799399Z"
    }
   },
   "id": "d49b7fe7ac67c2ea"
  },
  {
   "cell_type": "code",
   "execution_count": null,
   "outputs": [],
   "source": [
    "# 강수량 편차\n",
    "rain30 = df30.groupby(['station', 'year'])['sumRn'].sum().reset_index()\n",
    "rain30 = rain30['sumRn'].mean()\n",
    "\n",
    "annual_rainfall = df_whole.groupby([\"year\", \"station\"])[\"sumRn\"].sum().reset_index()\n",
    "annual_rainfall = annual_rainfall.groupby('year')['sumRn'].mean()\n",
    "\n",
    "mean_rainfall = annual_rainfall.mean()\n",
    "anomaly_index = annual_rainfall - rain30\n",
    "anomaly_index_df = anomaly_index.reset_index(name='rainfall_anomaly')\n",
    "\n",
    "anomaly_index_df['color'] = anomaly_index_df['rainfall_anomaly'].apply(lambda x: 'red' if x < 0 else 'blue')\n",
    "\n",
    "plt.figure(figsize=(10, 6))\n",
    "sns.barplot(x='year', y='rainfall_anomaly', data=anomaly_index_df, palette=anomaly_index_df['color'])\n",
    "\n",
    "plt.xlabel(\"Year\")\n",
    "plt.ylabel(\"Rainfall Anomaly Index\")\n",
    "plt.title(\"Annual Rainfall Anomaly Index\")\n",
    "plt.xticks(rotation=45, ha='right')\n",
    "plt.show()"
   ],
   "metadata": {
    "collapsed": false,
    "ExecuteTime": {
     "end_time": "2023-11-30T10:32:22.230887Z",
     "start_time": "2023-11-30T10:32:21.688058Z"
    }
   },
   "id": "cc4232408d992c8a"
  },
  {
   "cell_type": "code",
   "execution_count": null,
   "outputs": [],
   "source": [
    "plt.figure(figsize=(12, 6))\n",
    "for year in range(1991, 2021):\n",
    "    sns.lineplot(data=df[df['year'] == year], x='month', y='avgTa', color='gray')\n",
    "sns.lineplot(data=df[df['year'] == 2022], x='month', y='avgTa', color='red', label='2022')\n",
    "\n",
    "plt.title('Daily Average Temperature Over 30 Years')\n",
    "plt.xlabel('Month')\n",
    "plt.ylabel('Temperature (°C)')\n",
    "plt.grid(False, axis='x')\n",
    "plt.legend()\n",
    "plt.show()"
   ],
   "metadata": {
    "collapsed": false,
    "ExecuteTime": {
     "end_time": "2023-11-30T10:32:33.695734Z",
     "start_time": "2023-11-30T10:32:22.235092Z"
    }
   },
   "id": "3966c14cfebc0d0f"
  },
  {
   "cell_type": "markdown",
   "source": [],
   "metadata": {
    "collapsed": false
   },
   "id": "ee929f2c99642e37"
  },
  {
   "cell_type": "code",
   "execution_count": null,
   "outputs": [],
   "source": [
    "plt.figure(figsize=(12, 6))\n",
    "for year in range(1991, 2021):\n",
    "    sns.lineplot(data=df[df['year'] == year], x='month', y='avgTa', color='gray')\n",
    "sns.lineplot(data=df[df['year'] == 2023], x='month', y='avgTa', color='red', label='2023')\n",
    "\n",
    "plt.title('Daily Average Temperature Over 30 Years')\n",
    "plt.xlabel('Month')\n",
    "plt.ylabel('Temperature (°C)')\n",
    "plt.grid(False, axis='x')\n",
    "plt.legend()\n",
    "plt.show()"
   ],
   "metadata": {
    "collapsed": false,
    "ExecuteTime": {
     "start_time": "2023-12-01T21:58:09.052032Z",
     "end_time": "2023-12-01T21:58:27.368001Z"
    }
   },
   "id": "ee490d297034a98"
  },
  {
   "cell_type": "code",
   "execution_count": null,
   "outputs": [],
   "source": [
    "tavg_table(df, 2022)\n",
    "tavg_table(df, 2023)\n",
    "rain_table(df, 2022)\n",
    "rain_table(df, 2023)"
   ],
   "metadata": {
    "collapsed": false,
    "ExecuteTime": {
     "end_time": "2023-11-30T10:32:47.563769Z",
     "start_time": "2023-11-30T10:32:45.530433Z"
    }
   },
   "id": "5edaf8ace1f7a1b2"
  },
  {
   "cell_type": "code",
   "execution_count": 104,
   "outputs": [
    {
     "data": {
      "text/plain": "     station  month  sumRn\n11        강릉     12    0.0\n37        거제      2    0.0\n48        거창      1    0.0\n52        거창      5    0.0\n109       고흥      2    0.0\n121      광양시      2    0.0\n180      김해시      1    0.0\n181      김해시      2    0.0\n204       남해      1    0.0\n205       남해      2    0.0\n228       대구      1    0.0\n300       밀양      1    0.0\n301       밀양      2    0.0\n360       부산      1    0.0\n361       부산      2    0.0\n407      북강릉     12    0.0\n408      북창원      1    0.0\n409      북창원      2    0.0\n432       산청      1    0.0\n552       순천      1    0.0\n553       순천      2    0.0\n564       안동      1    0.0\n577      양산시      2    0.0\n600       여수      1    0.0\n601       여수      2    0.0\n660       영천      1    0.0\n661       영천      2    0.0\n732      의령군      1    0.0\n900       진주      1    0.0\n901       진주      2    0.0\n936      청송군      1    0.0\n1008      통영      1    0.0\n1009      통영      2    0.0\n1032     함양군      1    0.0\n1044      합천      1    0.0\n1045      합천      2    0.0",
      "text/html": "<div>\n<style scoped>\n    .dataframe tbody tr th:only-of-type {\n        vertical-align: middle;\n    }\n\n    .dataframe tbody tr th {\n        vertical-align: top;\n    }\n\n    .dataframe thead th {\n        text-align: right;\n    }\n</style>\n<table border=\"1\" class=\"dataframe\">\n  <thead>\n    <tr style=\"text-align: right;\">\n      <th></th>\n      <th>station</th>\n      <th>month</th>\n      <th>sumRn</th>\n    </tr>\n  </thead>\n  <tbody>\n    <tr>\n      <th>11</th>\n      <td>강릉</td>\n      <td>12</td>\n      <td>0.0</td>\n    </tr>\n    <tr>\n      <th>37</th>\n      <td>거제</td>\n      <td>2</td>\n      <td>0.0</td>\n    </tr>\n    <tr>\n      <th>48</th>\n      <td>거창</td>\n      <td>1</td>\n      <td>0.0</td>\n    </tr>\n    <tr>\n      <th>52</th>\n      <td>거창</td>\n      <td>5</td>\n      <td>0.0</td>\n    </tr>\n    <tr>\n      <th>109</th>\n      <td>고흥</td>\n      <td>2</td>\n      <td>0.0</td>\n    </tr>\n    <tr>\n      <th>121</th>\n      <td>광양시</td>\n      <td>2</td>\n      <td>0.0</td>\n    </tr>\n    <tr>\n      <th>180</th>\n      <td>김해시</td>\n      <td>1</td>\n      <td>0.0</td>\n    </tr>\n    <tr>\n      <th>181</th>\n      <td>김해시</td>\n      <td>2</td>\n      <td>0.0</td>\n    </tr>\n    <tr>\n      <th>204</th>\n      <td>남해</td>\n      <td>1</td>\n      <td>0.0</td>\n    </tr>\n    <tr>\n      <th>205</th>\n      <td>남해</td>\n      <td>2</td>\n      <td>0.0</td>\n    </tr>\n    <tr>\n      <th>228</th>\n      <td>대구</td>\n      <td>1</td>\n      <td>0.0</td>\n    </tr>\n    <tr>\n      <th>300</th>\n      <td>밀양</td>\n      <td>1</td>\n      <td>0.0</td>\n    </tr>\n    <tr>\n      <th>301</th>\n      <td>밀양</td>\n      <td>2</td>\n      <td>0.0</td>\n    </tr>\n    <tr>\n      <th>360</th>\n      <td>부산</td>\n      <td>1</td>\n      <td>0.0</td>\n    </tr>\n    <tr>\n      <th>361</th>\n      <td>부산</td>\n      <td>2</td>\n      <td>0.0</td>\n    </tr>\n    <tr>\n      <th>407</th>\n      <td>북강릉</td>\n      <td>12</td>\n      <td>0.0</td>\n    </tr>\n    <tr>\n      <th>408</th>\n      <td>북창원</td>\n      <td>1</td>\n      <td>0.0</td>\n    </tr>\n    <tr>\n      <th>409</th>\n      <td>북창원</td>\n      <td>2</td>\n      <td>0.0</td>\n    </tr>\n    <tr>\n      <th>432</th>\n      <td>산청</td>\n      <td>1</td>\n      <td>0.0</td>\n    </tr>\n    <tr>\n      <th>552</th>\n      <td>순천</td>\n      <td>1</td>\n      <td>0.0</td>\n    </tr>\n    <tr>\n      <th>553</th>\n      <td>순천</td>\n      <td>2</td>\n      <td>0.0</td>\n    </tr>\n    <tr>\n      <th>564</th>\n      <td>안동</td>\n      <td>1</td>\n      <td>0.0</td>\n    </tr>\n    <tr>\n      <th>577</th>\n      <td>양산시</td>\n      <td>2</td>\n      <td>0.0</td>\n    </tr>\n    <tr>\n      <th>600</th>\n      <td>여수</td>\n      <td>1</td>\n      <td>0.0</td>\n    </tr>\n    <tr>\n      <th>601</th>\n      <td>여수</td>\n      <td>2</td>\n      <td>0.0</td>\n    </tr>\n    <tr>\n      <th>660</th>\n      <td>영천</td>\n      <td>1</td>\n      <td>0.0</td>\n    </tr>\n    <tr>\n      <th>661</th>\n      <td>영천</td>\n      <td>2</td>\n      <td>0.0</td>\n    </tr>\n    <tr>\n      <th>732</th>\n      <td>의령군</td>\n      <td>1</td>\n      <td>0.0</td>\n    </tr>\n    <tr>\n      <th>900</th>\n      <td>진주</td>\n      <td>1</td>\n      <td>0.0</td>\n    </tr>\n    <tr>\n      <th>901</th>\n      <td>진주</td>\n      <td>2</td>\n      <td>0.0</td>\n    </tr>\n    <tr>\n      <th>936</th>\n      <td>청송군</td>\n      <td>1</td>\n      <td>0.0</td>\n    </tr>\n    <tr>\n      <th>1008</th>\n      <td>통영</td>\n      <td>1</td>\n      <td>0.0</td>\n    </tr>\n    <tr>\n      <th>1009</th>\n      <td>통영</td>\n      <td>2</td>\n      <td>0.0</td>\n    </tr>\n    <tr>\n      <th>1032</th>\n      <td>함양군</td>\n      <td>1</td>\n      <td>0.0</td>\n    </tr>\n    <tr>\n      <th>1044</th>\n      <td>합천</td>\n      <td>1</td>\n      <td>0.0</td>\n    </tr>\n    <tr>\n      <th>1045</th>\n      <td>합천</td>\n      <td>2</td>\n      <td>0.0</td>\n    </tr>\n  </tbody>\n</table>\n</div>"
     },
     "metadata": {},
     "output_type": "display_data"
    },
    {
     "name": "stdout",
     "output_type": "stream",
     "text": [
      "1월 강수량이 0인 지역: 거창, 김해시, 남해, 대구, 밀양, 부산, 북창원, 산청, 순천, 안동, 여수, 영천, 의령군, 진주, 청송군, 통영, 함양군, 합천\n",
      "2월 강수량이 0인 지역: 거제, 고흥, 광양시, 김해시, 남해, 밀양, 부산, 북창원, 순천, 양산시, 여수, 영천, 진주, 통영, 합천\n",
      "5월 강수량이 0인 지역: 거창\n",
      "12월 강수량이 0인 지역: 강릉, 북강릉\n"
     ]
    }
   ],
   "source": [
    "norain_station(df, 2022)"
   ],
   "metadata": {
    "collapsed": false,
    "ExecuteTime": {
     "start_time": "2023-12-01T22:50:38.393504Z",
     "end_time": "2023-12-01T22:50:38.627046Z"
    }
   },
   "id": "8126a0d5c9d9366"
  },
  {
   "cell_type": "markdown",
   "source": [],
   "metadata": {
    "collapsed": false
   },
   "id": "83b080e94b9b9cc6"
  },
  {
   "cell_type": "markdown",
   "source": [],
   "metadata": {
    "collapsed": false
   },
   "id": "150c97ee76f8b58f"
  },
  {
   "cell_type": "code",
   "execution_count": 105,
   "outputs": [
    {
     "name": "stdout",
     "output_type": "stream",
     "text": [
      "2022년 전국에서 일최고기온을 기록한 지역은 포항으로, 8월 7일, 37.9°C를 기록하였다.\n",
      "2022년 전국에서 일최저기온을 기록한 지역은 대관령으로, 12월 24일, -21.8°C를 기록하였다.\n",
      "2022년 전국에서 일최고강수량을 기록한 지역은 포항으로, 9월 6일, 342.4mm를 기록하였다.\n",
      "2022년 전국에서 일최고최심신적설을 기록한 지역은 광주로, 12월 23일, 32.9cm 기록하였다.\n"
     ]
    }
   ],
   "source": [
    "minmax_station(df, 2022)"
   ],
   "metadata": {
    "collapsed": false,
    "ExecuteTime": {
     "start_time": "2023-12-01T22:50:43.497001Z",
     "end_time": "2023-12-01T22:50:43.541160Z"
    }
   },
   "id": "aafbd29299e5d2f"
  },
  {
   "cell_type": "code",
   "execution_count": 106,
   "outputs": [
    {
     "data": {
      "text/plain": "    year        강수여부   순위\n49  2022  273.608696  3.0",
      "text/html": "<div>\n<style scoped>\n    .dataframe tbody tr th:only-of-type {\n        vertical-align: middle;\n    }\n\n    .dataframe tbody tr th {\n        vertical-align: top;\n    }\n\n    .dataframe thead th {\n        text-align: right;\n    }\n</style>\n<table border=\"1\" class=\"dataframe\">\n  <thead>\n    <tr style=\"text-align: right;\">\n      <th></th>\n      <th>year</th>\n      <th>강수여부</th>\n      <th>순위</th>\n    </tr>\n  </thead>\n  <tbody>\n    <tr>\n      <th>49</th>\n      <td>2022</td>\n      <td>273.608696</td>\n      <td>3.0</td>\n    </tr>\n  </tbody>\n</table>\n</div>"
     },
     "metadata": {},
     "output_type": "display_data"
    },
    {
     "data": {
      "text/plain": "    year      한파여부    순위\n49  2022  7.423913  21.0",
      "text/html": "<div>\n<style scoped>\n    .dataframe tbody tr th:only-of-type {\n        vertical-align: middle;\n    }\n\n    .dataframe tbody tr th {\n        vertical-align: top;\n    }\n\n    .dataframe thead th {\n        text-align: right;\n    }\n</style>\n<table border=\"1\" class=\"dataframe\">\n  <thead>\n    <tr style=\"text-align: right;\">\n      <th></th>\n      <th>year</th>\n      <th>한파여부</th>\n      <th>순위</th>\n    </tr>\n  </thead>\n  <tbody>\n    <tr>\n      <th>49</th>\n      <td>2022</td>\n      <td>7.423913</td>\n      <td>21.0</td>\n    </tr>\n  </tbody>\n</table>\n</div>"
     },
     "metadata": {},
     "output_type": "display_data"
    },
    {
     "data": {
      "text/plain": "    year       폭염여부    순위\n49  2022  10.934783  17.0",
      "text/html": "<div>\n<style scoped>\n    .dataframe tbody tr th:only-of-type {\n        vertical-align: middle;\n    }\n\n    .dataframe tbody tr th {\n        vertical-align: top;\n    }\n\n    .dataframe thead th {\n        text-align: right;\n    }\n</style>\n<table border=\"1\" class=\"dataframe\">\n  <thead>\n    <tr style=\"text-align: right;\">\n      <th></th>\n      <th>year</th>\n      <th>폭염여부</th>\n      <th>순위</th>\n    </tr>\n  </thead>\n  <tbody>\n    <tr>\n      <th>49</th>\n      <td>2022</td>\n      <td>10.934783</td>\n      <td>17.0</td>\n    </tr>\n  </tbody>\n</table>\n</div>"
     },
     "metadata": {},
     "output_type": "display_data"
    }
   ],
   "source": [
    "days_rank(df[df['year']!=2023], 2022)"
   ],
   "metadata": {
    "collapsed": false,
    "ExecuteTime": {
     "start_time": "2023-12-01T22:50:45.240261Z",
     "end_time": "2023-12-01T22:50:50.019056Z"
    }
   },
   "id": "b322d2be3af2b47d"
  },
  {
   "cell_type": "code",
   "execution_count": 107,
   "outputs": [
    {
     "data": {
      "text/plain": "    station  month  sumRn\n672      원주      2    0.0\n870      철원      2    0.0",
      "text/html": "<div>\n<style scoped>\n    .dataframe tbody tr th:only-of-type {\n        vertical-align: middle;\n    }\n\n    .dataframe tbody tr th {\n        vertical-align: top;\n    }\n\n    .dataframe thead th {\n        text-align: right;\n    }\n</style>\n<table border=\"1\" class=\"dataframe\">\n  <thead>\n    <tr style=\"text-align: right;\">\n      <th></th>\n      <th>station</th>\n      <th>month</th>\n      <th>sumRn</th>\n    </tr>\n  </thead>\n  <tbody>\n    <tr>\n      <th>672</th>\n      <td>원주</td>\n      <td>2</td>\n      <td>0.0</td>\n    </tr>\n    <tr>\n      <th>870</th>\n      <td>철원</td>\n      <td>2</td>\n      <td>0.0</td>\n    </tr>\n  </tbody>\n</table>\n</div>"
     },
     "metadata": {},
     "output_type": "display_data"
    },
    {
     "name": "stdout",
     "output_type": "stream",
     "text": [
      "1월 강수량이 0인 지역: \n",
      "2월 강수량이 0인 지역: 원주, 철원\n",
      "5월 강수량이 0인 지역: \n",
      "12월 강수량이 0인 지역: \n"
     ]
    }
   ],
   "source": [
    "norain_station(df, 2023)"
   ],
   "metadata": {
    "collapsed": false,
    "ExecuteTime": {
     "start_time": "2023-12-01T22:50:50.019056Z",
     "end_time": "2023-12-01T22:50:50.243126Z"
    }
   },
   "id": "87b3305cd372974"
  },
  {
   "cell_type": "code",
   "execution_count": 108,
   "outputs": [
    {
     "name": "stdout",
     "output_type": "stream",
     "text": [
      "2023년 전국에서 일최고기온을 기록한 지역은 강릉으로, 8월 3일, 38.4°C를 기록하였다.\n",
      "2023년 전국에서 일최저기온을 기록한 지역은 대관령으로, 1월 25일, -25.2°C를 기록하였다.\n",
      "2023년 전국에서 일최고강수량을 기록한 지역은 군산으로, 7월 14일, 372.8mm를 기록하였다.\n",
      "2023년 전국에서 일최고최심신적설을 기록한 지역은 울릉도로, 1월 24일, 71.5cm 기록하였다.\n"
     ]
    }
   ],
   "source": [
    "minmax_station(df, 2023)"
   ],
   "metadata": {
    "collapsed": false,
    "ExecuteTime": {
     "start_time": "2023-12-01T22:50:50.179539Z",
     "end_time": "2023-12-01T22:50:50.278127Z"
    }
   },
   "id": "9ac7a8faaf4425fb"
  },
  {
   "cell_type": "code",
   "execution_count": 109,
   "outputs": [
    {
     "data": {
      "text/plain": "    year        강수여부    순위\n50  2023  227.526316  50.0",
      "text/html": "<div>\n<style scoped>\n    .dataframe tbody tr th:only-of-type {\n        vertical-align: middle;\n    }\n\n    .dataframe tbody tr th {\n        vertical-align: top;\n    }\n\n    .dataframe thead th {\n        text-align: right;\n    }\n</style>\n<table border=\"1\" class=\"dataframe\">\n  <thead>\n    <tr style=\"text-align: right;\">\n      <th></th>\n      <th>year</th>\n      <th>강수여부</th>\n      <th>순위</th>\n    </tr>\n  </thead>\n  <tbody>\n    <tr>\n      <th>50</th>\n      <td>2023</td>\n      <td>227.526316</td>\n      <td>50.0</td>\n    </tr>\n  </tbody>\n</table>\n</div>"
     },
     "metadata": {},
     "output_type": "display_data"
    },
    {
     "data": {
      "text/plain": "    year      한파여부    순위\n50  2023  3.547368  44.0",
      "text/html": "<div>\n<style scoped>\n    .dataframe tbody tr th:only-of-type {\n        vertical-align: middle;\n    }\n\n    .dataframe tbody tr th {\n        vertical-align: top;\n    }\n\n    .dataframe thead th {\n        text-align: right;\n    }\n</style>\n<table border=\"1\" class=\"dataframe\">\n  <thead>\n    <tr style=\"text-align: right;\">\n      <th></th>\n      <th>year</th>\n      <th>한파여부</th>\n      <th>순위</th>\n    </tr>\n  </thead>\n  <tbody>\n    <tr>\n      <th>50</th>\n      <td>2023</td>\n      <td>3.547368</td>\n      <td>44.0</td>\n    </tr>\n  </tbody>\n</table>\n</div>"
     },
     "metadata": {},
     "output_type": "display_data"
    },
    {
     "data": {
      "text/plain": "    year  폭염여부   순위\n50  2023  14.0  6.0",
      "text/html": "<div>\n<style scoped>\n    .dataframe tbody tr th:only-of-type {\n        vertical-align: middle;\n    }\n\n    .dataframe tbody tr th {\n        vertical-align: top;\n    }\n\n    .dataframe thead th {\n        text-align: right;\n    }\n</style>\n<table border=\"1\" class=\"dataframe\">\n  <thead>\n    <tr style=\"text-align: right;\">\n      <th></th>\n      <th>year</th>\n      <th>폭염여부</th>\n      <th>순위</th>\n    </tr>\n  </thead>\n  <tbody>\n    <tr>\n      <th>50</th>\n      <td>2023</td>\n      <td>14.0</td>\n      <td>6.0</td>\n    </tr>\n  </tbody>\n</table>\n</div>"
     },
     "metadata": {},
     "output_type": "display_data"
    }
   ],
   "source": [
    "days_rank(df, 2023)"
   ],
   "metadata": {
    "collapsed": false,
    "ExecuteTime": {
     "start_time": "2023-12-01T22:50:50.887660Z",
     "end_time": "2023-12-01T22:50:54.943784Z"
    }
   },
   "id": "1e17c5cf9a3331f2"
  },
  {
   "cell_type": "code",
   "execution_count": null,
   "outputs": [],
   "source": [
    "def draw_tavg_month(df, year):    \n",
    "    df30 = df[(df['year'] >= 1991) & (df['year'] <= 2020)]\n",
    "    dfyear = df[df['year'] == year]\n",
    "    \n",
    "    tavg30 = df30.groupby([\"month\", \"station\"])[\"avgTa\"].mean().reset_index()\n",
    "    tavg30 = tavg30.groupby('month')['avgTa'].mean()\n",
    "    \n",
    "    tavgyear = dfyear.groupby([\"month\", \"station\"])[\"avgTa\"].mean().reset_index()\n",
    "    tavgyear = tavgyear.groupby('month')['avgTa'].mean()\n",
    "    \n",
    "    anomaly_index = tavgyear - tavg30\n",
    "    anomaly_index_df = anomaly_index.reset_index(name='tavg_anomaly')\n",
    "    \n",
    "    anomaly_index_df['color'] = anomaly_index_df['tavg_anomaly'].apply(lambda x: 'red' if x > 0 else 'blue')\n",
    "    \n",
    "    plt.figure(figsize=(10, 6))\n",
    "    sns.barplot(x='month', y='tavg_anomaly', data=anomaly_index_df, palette=anomaly_index_df['color'])\n",
    "    \n",
    "    plt.xlabel(\"Month\")\n",
    "    plt.ylabel(\"Temperature Anomaly\")\n",
    "    plt.title(f\"{year} Monthly Temperature Anomaly for year\")\n",
    "    plt.xticks(rotation=45, ha='right')\n",
    "    plt.show()"
   ],
   "metadata": {
    "collapsed": false,
    "ExecuteTime": {
     "start_time": "2023-12-01T21:58:34.268805Z",
     "end_time": "2023-12-01T21:58:34.313801Z"
    }
   },
   "id": "478005d9625cb3fe"
  },
  {
   "cell_type": "code",
   "execution_count": null,
   "outputs": [],
   "source": [
    "def draw_rain_month(df, year):    \n",
    "    df30 = df[(df['year'] >= 1991) & (df['year'] <= 2020)]\n",
    "    dfyear = df[df['year'] == year]\n",
    "    \n",
    "    \n",
    "    rain30 = df30.groupby([\"month\", \"station\", \"year\"])[\"sumRn\"].sum().reset_index()\n",
    "    rain30 = rain30.groupby('month')['sumRn'].mean()\n",
    "    \n",
    "    rainyear = dfyear.groupby([\"month\", \"station\", \"year\"])[\"sumRn\"].sum().reset_index()\n",
    "    rainyear = rainyear.groupby('month')['sumRn'].mean()\n",
    "    \n",
    "    anomaly_index = rainyear - rain30\n",
    "    anomaly_index_df = anomaly_index.reset_index(name='rain_anomaly')\n",
    "    \n",
    "    anomaly_index_df['color'] = anomaly_index_df['rain_anomaly'].apply(lambda x: 'red' if x < 0 else 'blue')\n",
    "    \n",
    "    plt.figure(figsize=(10, 6))\n",
    "    sns.barplot(x='month', y='rain_anomaly', data=anomaly_index_df, palette=anomaly_index_df['color'])\n",
    "    \n",
    "    plt.xlabel(\"Month\")\n",
    "    plt.ylabel(\"Rainfall Anomaly\")\n",
    "    plt.title(f\"{year} Monthly Rainfall Anomaly for year\")\n",
    "    plt.xticks(rotation=45, ha='right')\n",
    "    plt.show()"
   ],
   "metadata": {
    "collapsed": false,
    "ExecuteTime": {
     "start_time": "2023-12-01T21:58:34.291803Z",
     "end_time": "2023-12-01T21:58:34.395522Z"
    }
   },
   "id": "20ea3edaa36145df"
  },
  {
   "cell_type": "code",
   "execution_count": null,
   "outputs": [],
   "source": [
    "draw_tavg_month(df, 2022)"
   ],
   "metadata": {
    "collapsed": false,
    "ExecuteTime": {
     "end_time": "2023-11-30T10:32:52.198370Z",
     "start_time": "2023-11-30T10:32:51.776317Z"
    }
   },
   "id": "171a56e221cf8f0"
  },
  {
   "cell_type": "code",
   "execution_count": null,
   "outputs": [],
   "source": [
    "draw_tavg_month(df, 2023)"
   ],
   "metadata": {
    "collapsed": false,
    "ExecuteTime": {
     "end_time": "2023-11-30T10:32:52.684118Z",
     "start_time": "2023-11-30T10:32:52.201773Z"
    }
   },
   "id": "2d5aee1349199758"
  },
  {
   "cell_type": "code",
   "execution_count": null,
   "outputs": [],
   "source": [
    "draw_rain_month(df, 2022)"
   ],
   "metadata": {
    "collapsed": false,
    "ExecuteTime": {
     "end_time": "2023-11-30T10:32:53.048120Z",
     "start_time": "2023-11-30T10:32:52.679785Z"
    }
   },
   "id": "5a44118d1d476e37"
  },
  {
   "cell_type": "code",
   "execution_count": null,
   "outputs": [],
   "source": [
    "draw_rain_month(df, 2023)"
   ],
   "metadata": {
    "collapsed": false,
    "ExecuteTime": {
     "end_time": "2023-11-30T10:32:53.420349Z",
     "start_time": "2023-11-30T10:32:53.045626Z"
    }
   },
   "id": "5f6021b5ba0b2a0c"
  },
  {
   "cell_type": "code",
   "execution_count": 93,
   "outputs": [
    {
     "data": {
      "text/plain": "시도  year         남부         중부        차이\n52  2022  13.915655  12.042086  1.873569\n53  2023  15.753420  14.228265  1.525156",
      "text/html": "<div>\n<style scoped>\n    .dataframe tbody tr th:only-of-type {\n        vertical-align: middle;\n    }\n\n    .dataframe tbody tr th {\n        vertical-align: top;\n    }\n\n    .dataframe thead th {\n        text-align: right;\n    }\n</style>\n<table border=\"1\" class=\"dataframe\">\n  <thead>\n    <tr style=\"text-align: right;\">\n      <th>시도</th>\n      <th>year</th>\n      <th>남부</th>\n      <th>중부</th>\n      <th>차이</th>\n    </tr>\n  </thead>\n  <tbody>\n    <tr>\n      <th>52</th>\n      <td>2022</td>\n      <td>13.915655</td>\n      <td>12.042086</td>\n      <td>1.873569</td>\n    </tr>\n    <tr>\n      <th>53</th>\n      <td>2023</td>\n      <td>15.753420</td>\n      <td>14.228265</td>\n      <td>1.525156</td>\n    </tr>\n  </tbody>\n</table>\n</div>"
     },
     "execution_count": 93,
     "metadata": {},
     "output_type": "execute_result"
    }
   ],
   "source": [
    "district_tavg = df.groupby(['year', '시도'])['avgTa'].mean().reset_index()\n",
    "district_tavg = district_tavg.pivot(index='year',columns='시도',values='avgTa').reset_index()\n",
    "district_tavg = district_tavg[district_tavg['year']>2021]\n",
    "district_tavg['차이'] = district_tavg['남부'] - district_tavg['중부']\n",
    "district_tavg"
   ],
   "metadata": {
    "collapsed": false,
    "ExecuteTime": {
     "start_time": "2023-12-01T22:33:50.327149Z",
     "end_time": "2023-12-01T22:33:50.494450Z"
    }
   }
  },
  {
   "cell_type": "code",
   "execution_count": 103,
   "outputs": [
    {
     "data": {
      "text/plain": "시도  year           남부           중부          차이\n52  2022   951.378333  1443.562500 -492.184167\n53  2023  1705.813115  1441.247059  264.566056",
      "text/html": "<div>\n<style scoped>\n    .dataframe tbody tr th:only-of-type {\n        vertical-align: middle;\n    }\n\n    .dataframe tbody tr th {\n        vertical-align: top;\n    }\n\n    .dataframe thead th {\n        text-align: right;\n    }\n</style>\n<table border=\"1\" class=\"dataframe\">\n  <thead>\n    <tr style=\"text-align: right;\">\n      <th>시도</th>\n      <th>year</th>\n      <th>남부</th>\n      <th>중부</th>\n      <th>차이</th>\n    </tr>\n  </thead>\n  <tbody>\n    <tr>\n      <th>52</th>\n      <td>2022</td>\n      <td>951.378333</td>\n      <td>1443.562500</td>\n      <td>-492.184167</td>\n    </tr>\n    <tr>\n      <th>53</th>\n      <td>2023</td>\n      <td>1705.813115</td>\n      <td>1441.247059</td>\n      <td>264.566056</td>\n    </tr>\n  </tbody>\n</table>\n</div>"
     },
     "execution_count": 103,
     "metadata": {},
     "output_type": "execute_result"
    }
   ],
   "source": [
    "district_rain = df.groupby(['year', 'station','시도'])['sumRn'].sum().reset_index()\n",
    "district_rain = district_rain.groupby(['year','시도'])['sumRn'].mean().reset_index()\n",
    "district_rain = district_rain.pivot(index='year',columns='시도',values='sumRn').reset_index()\n",
    "district_rain = district_rain[district_rain['year']>2021]\n",
    "district_rain['차이'] = district_rain['남부'] - district_rain['중부']\n",
    "district_rain.sort_values(by='차이')"
   ],
   "metadata": {
    "collapsed": false,
    "ExecuteTime": {
     "start_time": "2023-12-01T22:45:43.685321Z",
     "end_time": "2023-12-01T22:45:44.047150Z"
    }
   }
  },
  {
   "cell_type": "code",
   "execution_count": null,
   "outputs": [],
   "source": [],
   "metadata": {
    "collapsed": false
   }
  }
 ],
 "metadata": {
  "kernelspec": {
   "display_name": "Python 3",
   "language": "python",
   "name": "python3"
  },
  "language_info": {
   "codemirror_mode": {
    "name": "ipython",
    "version": 2
   },
   "file_extension": ".py",
   "mimetype": "text/x-python",
   "name": "python",
   "nbconvert_exporter": "python",
   "pygments_lexer": "ipython2",
   "version": "2.7.6"
  }
 },
 "nbformat": 4,
 "nbformat_minor": 5
}
